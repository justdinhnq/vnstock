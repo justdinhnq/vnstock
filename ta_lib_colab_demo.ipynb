{
 "cells": [
  {
   "cell_type": "markdown",
   "metadata": {},
   "source": [
    "<a target=\"_blank\" href=\"https://colab.research.google.com/github/thinh-vu/vnstock/blob/beta/docs/ta_lib_colab_demo.ipynb\">\n",
    "  <img src=\"https://colab.research.google.com/assets/colab-badge.svg\" alt=\"Open In Colab\"/>\n",
    "</a>"
   ]
  },
  {
   "cell_type": "markdown",
   "metadata": {},
   "source": [
    "# Cài đặt TA-Lib"
   ]
  },
  {
   "cell_type": "code",
   "execution_count": null,
   "metadata": {},
   "outputs": [
    {
     "name": "stdout",
     "output_type": "stream",
     "text": [
      "Downloaded ta-lib-0.4.0-src.tar.gz from https://sourceforge.net/projects/ta-lib/files/ta-lib/0.4.0/ta-lib-0.4.0-src.tar.gz/download?use_mirror=udomain\n"
     ]
    }
   ],
   "source": [
    "import requests\n",
    "\n",
    "# The url of the zip file\n",
    "url = \"https://sourceforge.net/projects/ta-lib/files/ta-lib/0.4.0/ta-lib-0.4.0-src.tar.gz/download?use_mirror=udomain\"\n",
    "filename = \"ta-lib-0.4.0-src.tar.gz\"\n",
    "response = requests.get(url)\n",
    "\n",
    "# Open the local file in binary mode and write the response content\n",
    "with open(filename, \"wb\") as f:\n",
    "    f.write(response.content)\n",
    "\n",
    "# Print a message to indicate success\n",
    "print(f\"Downloaded {filename} from {url}\")"
   ]
  },
  {
   "cell_type": "code",
   "execution_count": null,
   "metadata": {},
   "outputs": [],
   "source": [
    "# Install dependencies\n",
    "!tar -xzf ta-lib-0.4.0-src.tar.gz\n",
    "%cd ta-lib/\n",
    "! ./configure --prefix=/usr\n",
    "! sudo make\n",
    "! sudo make install\n",
    "\n",
    "!pip install ta-lib"
   ]
  },
  {
   "cell_type": "markdown",
   "metadata": {},
   "source": [
    "# Tải dữ liệu từ vnstock & thử nghiệm"
   ]
  },
  {
   "cell_type": "code",
   "execution_count": 5,
   "metadata": {},
   "outputs": [
    {
     "data": {
      "text/html": [
       "<div>\n",
       "<style scoped>\n",
       "    .dataframe tbody tr th:only-of-type {\n",
       "        vertical-align: middle;\n",
       "    }\n",
       "\n",
       "    .dataframe tbody tr th {\n",
       "        vertical-align: top;\n",
       "    }\n",
       "\n",
       "    .dataframe thead th {\n",
       "        text-align: right;\n",
       "    }\n",
       "</style>\n",
       "<table border=\"1\" class=\"dataframe\">\n",
       "  <thead>\n",
       "    <tr style=\"text-align: right;\">\n",
       "      <th></th>\n",
       "      <th>Open</th>\n",
       "      <th>High</th>\n",
       "      <th>Low</th>\n",
       "      <th>Close</th>\n",
       "      <th>Volume</th>\n",
       "      <th>Ticker</th>\n",
       "    </tr>\n",
       "    <tr>\n",
       "      <th>Time</th>\n",
       "      <th></th>\n",
       "      <th></th>\n",
       "      <th></th>\n",
       "      <th></th>\n",
       "      <th></th>\n",
       "      <th></th>\n",
       "    </tr>\n",
       "  </thead>\n",
       "  <tbody>\n",
       "    <tr>\n",
       "      <th>2023-06-01</th>\n",
       "      <td>30000</td>\n",
       "      <td>30300</td>\n",
       "      <td>29750</td>\n",
       "      <td>30300</td>\n",
       "      <td>4776200</td>\n",
       "      <td>TCB</td>\n",
       "    </tr>\n",
       "    <tr>\n",
       "      <th>2023-06-02</th>\n",
       "      <td>30800</td>\n",
       "      <td>32200</td>\n",
       "      <td>30700</td>\n",
       "      <td>32200</td>\n",
       "      <td>13798700</td>\n",
       "      <td>TCB</td>\n",
       "    </tr>\n",
       "    <tr>\n",
       "      <th>2023-06-05</th>\n",
       "      <td>32450</td>\n",
       "      <td>32800</td>\n",
       "      <td>31900</td>\n",
       "      <td>31900</td>\n",
       "      <td>5861900</td>\n",
       "      <td>TCB</td>\n",
       "    </tr>\n",
       "    <tr>\n",
       "      <th>2023-06-06</th>\n",
       "      <td>31900</td>\n",
       "      <td>32700</td>\n",
       "      <td>31750</td>\n",
       "      <td>32700</td>\n",
       "      <td>6000100</td>\n",
       "      <td>TCB</td>\n",
       "    </tr>\n",
       "    <tr>\n",
       "      <th>2023-06-07</th>\n",
       "      <td>32549</td>\n",
       "      <td>32750</td>\n",
       "      <td>32200</td>\n",
       "      <td>32600</td>\n",
       "      <td>4964100</td>\n",
       "      <td>TCB</td>\n",
       "    </tr>\n",
       "    <tr>\n",
       "      <th>2023-06-08</th>\n",
       "      <td>32700</td>\n",
       "      <td>32750</td>\n",
       "      <td>31750</td>\n",
       "      <td>31750</td>\n",
       "      <td>5741200</td>\n",
       "      <td>TCB</td>\n",
       "    </tr>\n",
       "    <tr>\n",
       "      <th>2023-06-09</th>\n",
       "      <td>31800</td>\n",
       "      <td>32500</td>\n",
       "      <td>31600</td>\n",
       "      <td>32400</td>\n",
       "      <td>5315500</td>\n",
       "      <td>TCB</td>\n",
       "    </tr>\n",
       "    <tr>\n",
       "      <th>2023-06-12</th>\n",
       "      <td>32250</td>\n",
       "      <td>32850</td>\n",
       "      <td>31900</td>\n",
       "      <td>32700</td>\n",
       "      <td>4136800</td>\n",
       "      <td>TCB</td>\n",
       "    </tr>\n",
       "    <tr>\n",
       "      <th>2023-06-13</th>\n",
       "      <td>32700</td>\n",
       "      <td>32900</td>\n",
       "      <td>32400</td>\n",
       "      <td>32800</td>\n",
       "      <td>3529000</td>\n",
       "      <td>TCB</td>\n",
       "    </tr>\n",
       "    <tr>\n",
       "      <th>2023-06-14</th>\n",
       "      <td>33000</td>\n",
       "      <td>33450</td>\n",
       "      <td>32549</td>\n",
       "      <td>32600</td>\n",
       "      <td>5374800</td>\n",
       "      <td>TCB</td>\n",
       "    </tr>\n",
       "    <tr>\n",
       "      <th>2023-06-15</th>\n",
       "      <td>32600</td>\n",
       "      <td>32900</td>\n",
       "      <td>32400</td>\n",
       "      <td>32650</td>\n",
       "      <td>3863700</td>\n",
       "      <td>TCB</td>\n",
       "    </tr>\n",
       "    <tr>\n",
       "      <th>2023-06-16</th>\n",
       "      <td>32650</td>\n",
       "      <td>33450</td>\n",
       "      <td>32500</td>\n",
       "      <td>32549</td>\n",
       "      <td>6928400</td>\n",
       "      <td>TCB</td>\n",
       "    </tr>\n",
       "  </tbody>\n",
       "</table>\n",
       "</div>"
      ],
      "text/plain": [
       "             Open   High    Low  Close    Volume Ticker\n",
       "Time                                                   \n",
       "2023-06-01  30000  30300  29750  30300   4776200    TCB\n",
       "2023-06-02  30800  32200  30700  32200  13798700    TCB\n",
       "2023-06-05  32450  32800  31900  31900   5861900    TCB\n",
       "2023-06-06  31900  32700  31750  32700   6000100    TCB\n",
       "2023-06-07  32549  32750  32200  32600   4964100    TCB\n",
       "2023-06-08  32700  32750  31750  31750   5741200    TCB\n",
       "2023-06-09  31800  32500  31600  32400   5315500    TCB\n",
       "2023-06-12  32250  32850  31900  32700   4136800    TCB\n",
       "2023-06-13  32700  32900  32400  32800   3529000    TCB\n",
       "2023-06-14  33000  33450  32549  32600   5374800    TCB\n",
       "2023-06-15  32600  32900  32400  32650   3863700    TCB\n",
       "2023-06-16  32650  33450  32500  32549   6928400    TCB"
      ]
     },
     "execution_count": 5,
     "metadata": {},
     "output_type": "execute_result"
    }
   ],
   "source": [
    "from vnstock import *\n",
    "import talib\n",
    "data = stock_historical_data(symbol='TCB', start_date='2023-06-01', end_date='2023-06-17', resolution='1D', type='stock', beautify=True, decor=True, source='DNSE')\n",
    "data"
   ]
  },
  {
   "cell_type": "code",
   "execution_count": null,
   "metadata": {},
   "outputs": [],
   "source": [
    "hammer = talib.CDLHAMMER(data.Open, data.High, data.Low, data.Close)\n",
    "hammer[hammer == 100]"
   ]
  },
  {
   "cell_type": "code",
   "execution_count": null,
   "metadata": {},
   "outputs": [],
   "source": [
    "hanging_man =talib.CDLHANGINGMAN(data.Open, data.High, data.Low, data.Close)\n",
    "hanging_man[hanging_man==-100]"
   ]
  }
 ],
 "metadata": {
  "kernelspec": {
   "display_name": "Python 3",
   "language": "python",
   "name": "python3"
  },
  "language_info": {
   "codemirror_mode": {
    "name": "ipython",
    "version": 3
   },
   "file_extension": ".py",
   "mimetype": "text/x-python",
   "name": "python",
   "nbconvert_exporter": "python",
   "pygments_lexer": "ipython3",
   "version": "3.11.6"
  }
 },
 "nbformat": 4,
 "nbformat_minor": 2
}
